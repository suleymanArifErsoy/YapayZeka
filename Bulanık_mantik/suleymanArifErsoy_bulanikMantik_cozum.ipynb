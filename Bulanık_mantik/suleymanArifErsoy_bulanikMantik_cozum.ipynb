{
  "nbformat": 4,
  "nbformat_minor": 0,
  "metadata": {
    "colab": {
      "provenance": []
    },
    "kernelspec": {
      "name": "python3",
      "display_name": "Python 3"
    },
    "language_info": {
      "name": "python"
    }
  },
  "cells": [
    {
      "cell_type": "code",
      "source": [
        "!pip install -U scikit-fuzzy # fuzzy kütüphanesini pip ile indrimesini sağladık"
      ],
      "metadata": {
        "colab": {
          "base_uri": "https://localhost:8080/"
        },
        "id": "HQqVwWspDIji",
        "outputId": "0245f63e-05d2-4372-ae49-44b32ca0b01d"
      },
      "execution_count": 3,
      "outputs": [
        {
          "output_type": "stream",
          "name": "stdout",
          "text": [
            "Collecting scikit-fuzzy\n",
            "  Downloading scikit-fuzzy-0.4.2.tar.gz (993 kB)\n",
            "\u001b[2K     \u001b[90m━━━━━━━━━━━━━━━━━━━━━━━━━━━━━━━━━━━━━━━━\u001b[0m \u001b[32m994.0/994.0 kB\u001b[0m \u001b[31m10.2 MB/s\u001b[0m eta \u001b[36m0:00:00\u001b[0m\n",
            "\u001b[?25h  Preparing metadata (setup.py) ... \u001b[?25l\u001b[?25hdone\n",
            "Requirement already satisfied: numpy>=1.6.0 in /usr/local/lib/python3.10/dist-packages (from scikit-fuzzy) (1.23.5)\n",
            "Requirement already satisfied: scipy>=0.9.0 in /usr/local/lib/python3.10/dist-packages (from scikit-fuzzy) (1.11.4)\n",
            "Requirement already satisfied: networkx>=1.9.0 in /usr/local/lib/python3.10/dist-packages (from scikit-fuzzy) (3.2.1)\n",
            "Building wheels for collected packages: scikit-fuzzy\n",
            "  Building wheel for scikit-fuzzy (setup.py) ... \u001b[?25l\u001b[?25hdone\n",
            "  Created wheel for scikit-fuzzy: filename=scikit_fuzzy-0.4.2-py3-none-any.whl size=894077 sha256=11f44ff78052bc928821b7b413bc9284ad01e61b268f756dc2692c989ebdb7d3\n",
            "  Stored in directory: /root/.cache/pip/wheels/4f/86/1b/dfd97134a2c8313e519bcebd95d3fedc7be7944db022094bc8\n",
            "Successfully built scikit-fuzzy\n",
            "Installing collected packages: scikit-fuzzy\n",
            "Successfully installed scikit-fuzzy-0.4.2\n"
          ]
        }
      ]
    },
    {
      "cell_type": "code",
      "execution_count": 4,
      "metadata": {
        "id": "Trxf9ruk-4dl"
      },
      "outputs": [],
      "source": [
        "# isim :Süleyman Arif Ersoy\n",
        "# NO : 200205050\n",
        "import numpy as np\n",
        "import skfuzzy.membership as mf\n",
        "import skfuzzy.control as ctrl\n",
        "import matplotlib.pyplot as plt"
      ]
    },
    {
      "cell_type": "code",
      "source": [
        "# bulanık mantık için koşul aralıklarını belirliyelim\n",
        "sicaklik = ctrl.Antecedent(np.arange(0, 101, 1), 'sicaklik')\n",
        "nem = ctrl.Antecedent(np.arange(0, 101, 1), 'nem')\n",
        "#sonuç aralılarını belirliyelim\n",
        "ac_sicaklik = ctrl.Consequent(np.arange(16, 28, 1), 'ac_sicaklik')\n",
        "ac_mode = ctrl.Consequent(np.arange(0, 2, 0.1), 'ac_mode')"
      ],
      "metadata": {
        "id": "MPQF83UO_Irx"
      },
      "execution_count": 10,
      "outputs": []
    },
    {
      "cell_type": "code",
      "source": [
        "# üyelik fonksiyonlarını tanımlıyoz\n",
        "sicaklik['soguk'] = mf.trapmf(sicaklik.universe, [0, 0 , 15.5 , 20.6])\n",
        "sicaklik['normal'] = mf.trapmf(sicaklik.universe, [15.5 , 20.6 , 24 , 28])\n",
        "sicaklik['sicak'] = mf.trapmf(sicaklik.universe, [22 , 28, 100 , 100])\n",
        "nem['kuru'] = mf.trapmf(nem.universe, [0, 0 , 43 , 46])\n",
        "nem['normal'] = mf.trapmf(nem.universe, [43 , 46 , 57.95 , 61.5])\n",
        "nem['islak'] = mf.trapmf(nem.universe, [57.95 , 61.5 , 100 , 100])\n",
        "ac_sicaklik['dusuk'] = mf.trapmf(ac_sicaklik.universe, [0, 0, 20 , 21])\n",
        "ac_sicaklik['orta'] = mf.trapmf(ac_sicaklik.universe, [20 , 21 , 23 , 24])\n",
        "ac_sicaklik['yuksek'] = mf.trapmf(ac_sicaklik.universe, [23 , 24 , 27 , 27])\n",
        "ac_mode['soguk'] = mf.trapmf(ac_mode.universe, [0, 0, 0.91, 1.15])\n",
        "ac_mode['kuru'] = mf.trapmf(ac_mode.universe, [0.91, 1.15, 2, 2])"
      ],
      "metadata": {
        "id": "tY72fV_e_NUQ"
      },
      "execution_count": 11,
      "outputs": []
    },
    {
      "cell_type": "code",
      "source": [
        "# pdfteki kurallar\n",
        "kural_1 = ctrl.Rule(sicaklik['soguk'] & nem['kuru'], (ac_sicaklik['yuksek'], ac_mode['soguk']))\n",
        "kural_2 = ctrl.Rule(sicaklik['soguk'] & nem['normal'], (ac_sicaklik['yuksek'], ac_mode['soguk']))\n",
        "kural_3 = ctrl.Rule(sicaklik['soguk'] & nem['islak'], (ac_sicaklik['yuksek'], ac_mode['kuru']))\n",
        "kural_4 = ctrl.Rule(sicaklik['normal'] & nem['kuru'], (ac_sicaklik['orta'], ac_mode['soguk']))\n",
        "kural_5 = ctrl.Rule(sicaklik['normal'] & nem['normal'], (ac_sicaklik['orta'], ac_mode['soguk']))\n",
        "kural_6 = ctrl.Rule(sicaklik['normal'] & nem['islak'], (ac_sicaklik['orta'], ac_mode['kuru']))\n",
        "kural_7 = ctrl.Rule(sicaklik['sicak'] & nem['kuru'], (ac_sicaklik['dusuk'], ac_mode['soguk']))\n",
        "kural_8 = ctrl.Rule(sicaklik['sicak'] & nem['normal'], (ac_sicaklik['dusuk'], ac_mode['soguk']))\n",
        "kural_9 = ctrl.Rule(sicaklik['sicak'] & nem['islak'], (ac_sicaklik['dusuk'], ac_mode['kuru']))"
      ],
      "metadata": {
        "id": "C2r4yL5N_PLI"
      },
      "execution_count": 19,
      "outputs": []
    },
    {
      "cell_type": "code",
      "source": [
        "# kontrol sistemine kurallarımızı tanımlıyoruz\n",
        "klima_kontrol = ctrl.ControlSystem([kural_1, kural_2, kural_3, kural_4, kural_5, kural_6, kural_7, kural_8, kural_9])\n",
        "klima_sistem = ctrl.ControlSystemSimulation(klima_kontrol)"
      ],
      "metadata": {
        "id": "yiK5Js6Q_Qkg"
      },
      "execution_count": 20,
      "outputs": []
    },
    {
      "cell_type": "code",
      "source": [
        "# kullanıcıdan durum değerlendirmesi için  sicaklik ve nem değerlerini alıyoruz\n",
        "sicaklik_girdi = int(input(\"sicaklik degerini giriniz : \"))\n",
        "nem_girdi = int(input(\"nem değerini giriniz : \"))\n",
        "\n",
        "klima_sistem.input['sicaklik'] = sicaklik_girdi\n",
        "klima_sistem.input['nem'] = nem_girdi\n",
        "klima_sistem.compute()\n",
        "\n",
        "cıkti_ac_sicaklik = klima_sistem.output['ac_sicaklik']\n",
        "cıkti_mode = klima_sistem.output['ac_mode']\n",
        "# sonuçları yazdırıyorz\n",
        "print(\"AC Sıcaklık değeri : \", cıkti_ac_sicaklik)\n",
        "print(\"AC mode değeri : \", cıkti_mode)\n"
      ],
      "metadata": {
        "colab": {
          "base_uri": "https://localhost:8080/"
        },
        "id": "fmivr49I_Rz4",
        "outputId": "0d3380ef-b26c-4125-8841-14bca9db53e0"
      },
      "execution_count": 23,
      "outputs": [
        {
          "output_type": "stream",
          "name": "stdout",
          "text": [
            "sicaklik degerini giriniz : 22\n",
            "nem değerini giriniz : 70\n",
            "AC Sıcaklık değeri :  22.0\n",
            "AC mode değeri :  1.4629807692307693\n"
          ]
        }
      ]
    }
  ]
}