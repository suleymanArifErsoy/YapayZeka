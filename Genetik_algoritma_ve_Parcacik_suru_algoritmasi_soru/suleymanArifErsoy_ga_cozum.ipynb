{
  "nbformat": 4,
  "nbformat_minor": 0,
  "metadata": {
    "colab": {
      "provenance": []
    },
    "kernelspec": {
      "name": "python3",
      "display_name": "Python 3"
    },
    "language_info": {
      "name": "python"
    }
  },
  "cells": [
    {
      "cell_type": "code",
      "execution_count": 2,
      "metadata": {
        "id": "pH3ObUQwFC50"
      },
      "outputs": [],
      "source": [
        "# İsim  : Süleyman Arif Ersoy\n",
        "# NO : 200205050\n",
        "import pandas as pd\n",
        "import matplotlib.pyplot as plt\n",
        "import random\n",
        "import numpy as np\n"
      ]
    },
    {
      "cell_type": "code",
      "source": [
        "class GenetikAlgoritma:\n",
        "    def __init__(self,gen_size,populasyon_size,iterasyon,crossover_orani,mutasyon_orani):\n",
        "        self.gen_size = gen_size\n",
        "        self.populasyon_size = populasyon_size\n",
        "        self.iterasyon = iterasyon\n",
        "        self.crossover_orani = crossover_orani\n",
        "        self.mutasyon_orani=mutasyon_orani\n",
        "\n",
        "    def kromozon_olustur(self):\n",
        "        return [random.random() for i in range(0,self.gen_size)]\n",
        "\n",
        "    def populasyon_olustur(self):\n",
        "        return [self.kromozon_olustur() for i in range(0,self.populasyon_size)]\n",
        "\n",
        "    def olasilik_hesapla(self,fitness_degeri):\n",
        "        P=[]\n",
        "        total = sum(fitness_degeri)\n",
        "        P = [deger/total for deger in fitness_degeri]\n",
        "        return P\n",
        "\n",
        "    def crossover(self,kromozon1,kromozon2):\n",
        "        yeni_kromozon1=[]\n",
        "        yeni_kromozon2=[]\n",
        "\n",
        "        r = random.randint(0,self.gen_size-1)\n",
        "        yeni_kromozon1[:r]=kromozon2[:r]\n",
        "        yeni_kromozon1[r:]=kromozon1[r:]\n",
        "\n",
        "        yeni_kromozon2[:r]=kromozon1[:r]\n",
        "        yeni_kromozon2[r:]=kromozon2[r:]\n",
        "        return yeni_kromozon1,yeni_kromozon2\n",
        "\n",
        "    def mutasyon(self,kromozon):\n",
        "        temp = []\n",
        "        temp = kromozon[:]\n",
        "        gen = random.randint(-2,2) # mutasyon yapılcak olan genin değeri\n",
        "        index = random.randint(0,self.gen_size-1) # genlerden biri seçilecek\n",
        "        temp[index]= gen\n",
        "        return temp\n",
        "\n",
        "    def genetik_fonksiyon_degerleri(self,cr,x):\n",
        "        sonuc = [np.power(x[i][0], 3) * cr[0] + np.power(x[i][0], 2) * cr[1] + x[i][0] * cr[2] + cr[3]  for i in range(len(x))]\n",
        "        return sonuc\n",
        "\n",
        "    def fonksiyon(self,cr):\n",
        "        return f\"{cr[0]}*x^3 + ({cr[1]})*x^2 + ({cr[2]})*x + ({cr[3]})\"\n",
        "\n",
        "\n",
        "\n",
        "    def fitness(self,cr,x,y): #cr=> oluşturduğumuz kromozonların genleri ,  x,y => veri setindeki x değerimiz ve y değerimiz\n",
        "        sonuc = self.ortalama_kare_hatasi(cr=cr,y=y,x=x)\n",
        "        return 1/(1+sonuc)\n",
        "\n",
        "    def genetik_fonksiyon(self,cr,x):\n",
        "        return np.power(x, 3) * cr[0] + np.power(x, 2) * cr[1] + x * cr[2] + cr[3]\n",
        "\n",
        "    # çizmemiz gereken en optimum çizgiyi çizmek için tahmin edilen değer ile gerçek değer arasındaki hata en az olması gerekir\n",
        "    def ortalama_kare_hatasi(self,cr,y,x):\n",
        "        orneklem_sayisi=len(x)\n",
        "        sonuc = []\n",
        "        k = 1/2*orneklem_sayisi\n",
        "        sonuc =[np.power(y[i][0]-self.genetik_fonksiyon(cr,x[i]),2) for i in range(0,veri_sayisi)]\n",
        "        sonuc = np.sum(sonuc)\n",
        "        return k*sonuc"
      ],
      "metadata": {
        "id": "PfqJsFMtFZjP"
      },
      "execution_count": 3,
      "outputs": []
    },
    {
      "cell_type": "code",
      "source": [
        "df = pd.read_csv(\"data_file.csv\")\n",
        "veri_sayisi = df.shape[0]\n",
        "X = df.iloc[:,:-1].values # ndarray\n",
        "Y = df.iloc[:,-1:].values # ndarray\n",
        "\n",
        "genetik = GenetikAlgoritma(iterasyon=100,populasyon_size=10,gen_size=4,crossover_orani=0.75,mutasyon_orani=0.1)\n",
        "\n",
        "populasyon =genetik.populasyon_olustur() # random bir populasyon olusturalım\n",
        "fitness_degerleri = []\n"
      ],
      "metadata": {
        "id": "6HuERyrLFcWQ"
      },
      "execution_count": 5,
      "outputs": []
    },
    {
      "cell_type": "code",
      "source": [
        "random.seed(61)\n",
        "epok =0\n",
        "while(epok < genetik.iterasyon):\n",
        "    for kromozon in populasyon :\n",
        "        fitness_degerleri.append(genetik.fitness(cr=kromozon,x=X,y=Y))\n",
        "\n",
        "    # olasılık işlemleri\n",
        "    P = genetik.olasilik_hesapla(fitness_degeri=fitness_degerleri)\n",
        "    C = np.cumsum(P) # Kümülatif olasılık\n",
        "\n",
        "    # rulet tekeri ile rastgele seçim yapma\n",
        "    rulet_indexleri = []\n",
        "    for i in range(0,len(C)):\n",
        "        r= random.random()\n",
        "        for j in range(0,len(C)):\n",
        "            if C[j]>r:\n",
        "                rulet_indexleri.append(j)\n",
        "                break\n",
        "\n",
        "    # crossover işlemine girecek sağlıklı kromozonların indexlerini seçme\n",
        "    crossover_indexleri = []\n",
        "    k = 0\n",
        "    while(k<genetik.populasyon_size):\n",
        "        r=random.random()\n",
        "        if(r<genetik.crossover_orani):\n",
        "            if(rulet_indexleri[k] not in crossover_indexleri):\n",
        "                crossover_indexleri.append(rulet_indexleri[k])\n",
        "        k=k+1\n",
        "    # crossover işlemini gerçekleştirme\n",
        "    if (len(crossover_indexleri)>1):\n",
        "        for i in range(0,len(crossover_indexleri)):\n",
        "            for j in range(i+1,len(crossover_indexleri)):\n",
        "                if crossover_indexleri[i] < len(populasyon) and crossover_indexleri[j] < len(populasyon):\n",
        "                    yeni_kromozon1,yeni_kromozon2 = genetik.crossover(populasyon[crossover_indexleri[i]],populasyon[crossover_indexleri[j]])\n",
        "                    populasyon.append(yeni_kromozon1)\n",
        "                    populasyon.append(yeni_kromozon2)\n",
        "                    fitness_degerleri.append(genetik.fitness(cr=kromozon,x=X,y=Y))\n",
        "                    fitness_degerleri.append(genetik.fitness(cr=kromozon,x=X,y=Y))\n",
        "    # Mutasyon işlemi\n",
        "    for _ in range(40):\n",
        "            mutasyonlu_kromozon = genetik.mutasyon(populasyon[random.randint(0,genetik.populasyon_size-1)])\n",
        "            populasyon.append(mutasyonlu_kromozon)\n",
        "            fitness_degerleri.append(genetik.fitness(cr=kromozon,x=X,y=Y))\n",
        "\n",
        "    zip_list=zip(fitness_degerleri,populasyon)\n",
        "    sort_list = sorted(zip_list,reverse=True)\n",
        "    # en iyi kromozonları populasyon büyüklüğüne göre elimizde tutma (elitizim)\n",
        "    p=len(populasyon)\n",
        "    while (p>genetik.populasyon_size):\n",
        "        sort_list.pop()\n",
        "        p=p-1\n",
        "    populasyon = []\n",
        "    fitness_degerleri = []\n",
        "\n",
        "    for i , j in list(sort_list):\n",
        "        populasyon.append(j)\n",
        "        fitness_degerleri.append(i)\n",
        "\n",
        "    epok= epok + 1"
      ],
      "metadata": {
        "id": "bx5ePfLzFlHo"
      },
      "execution_count": 6,
      "outputs": []
    },
    {
      "cell_type": "code",
      "source": [
        "en_iyi_kromozon = populasyon[genetik.populasyon_size-1]\n",
        "print(f\"Fonksiyon : {genetik.fonksiyon(en_iyi_kromozon)} ---------->>>>>--->>>>>>>-->>>>>>--- hata degeri : {genetik.ortalama_kare_hatasi(cr=en_iyi_kromozon,y=Y,x=X)}\")\n",
        "\n",
        "tahmini_y_degerleri = genetik.genetik_fonksiyon_degerleri(cr=en_iyi_kromozon,x=X)\n",
        "\n",
        "\n",
        "plt.scatter(X,Y,color=\"blue\",label=\"Veri Seti\")\n",
        "plt.title(\"Genetik Algoritma Çözüm\")\n",
        "plt.plot(X,tahmini_y_degerleri,color=\"red\",label= \"GA Çözüm\")\n",
        "plt.legend()\n",
        "plt.show()"
      ],
      "metadata": {
        "colab": {
          "base_uri": "https://localhost:8080/",
          "height": 470
        },
        "id": "nxaHHN1_GLtw",
        "outputId": "a65a6313-4cd7-4915-b4e5-873cb1126212"
      },
      "execution_count": 10,
      "outputs": [
        {
          "output_type": "stream",
          "name": "stdout",
          "text": [
            "Fonksiyon : 1*x^3 + (2)*x^2 + (0.6546337505679862)*x + (2) ---------->>>>>--->>>>>>>-->>>>>>--- hata degeri : 4249531.89226133\n"
          ]
        },
        {
          "output_type": "display_data",
          "data": {
            "text/plain": [
              "<Figure size 640x480 with 1 Axes>"
            ],
            "image/png": "[encoded data removed]"
          },
          "metadata": {}
        }
      ]
    }
  ]
}